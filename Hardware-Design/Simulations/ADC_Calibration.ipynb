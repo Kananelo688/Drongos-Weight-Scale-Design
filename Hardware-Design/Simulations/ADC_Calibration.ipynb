{
 "cells": [
  {
   "cell_type": "markdown",
   "id": "ab9d0fde-868d-4d8a-931c-b9c66857333a",
   "metadata": {},
   "source": [
    "# Notebook That Calibrate ADC DC and AC Effects"
   ]
  },
  {
   "cell_type": "code",
   "execution_count": null,
   "id": "f997161f-5108-448c-a03c-c6073a72343c",
   "metadata": {},
   "outputs": [],
   "source": [
    "import numpy as np\n",
    "import matplotlib.pyplot as plt"
   ]
  },
  {
   "cell_type": "code",
   "execution_count": null,
   "id": "be3a5e73-6de0-49e5-baa6-1817873cd1db",
   "metadata": {},
   "outputs": [],
   "source": [
    "Vref = 3.3 #Reference Voltage of ADC on ESP32"
   ]
  },
  {
   "cell_type": "markdown",
   "id": "56435daa-2995-44bb-b363-6c434af2bedc",
   "metadata": {},
   "source": [
    "### Two-Point Calibration"
   ]
  },
  {
   "cell_type": "code",
   "execution_count": null,
   "id": "7bf125ca-2e43-4686-bc67-bfce02e282d4",
   "metadata": {},
   "outputs": [],
   "source": [
    "V_low = 0.1*Vref\n",
    "V_high = 0.9*Vref\n",
    "Measured_Code_low  = 278\n",
    "Measured_Code_High = 3780\n",
    "Expected_Code_low = 409\n",
    "Expected_Code_High = 3686"
   ]
  },
  {
   "cell_type": "code",
   "execution_count": null,
   "id": "39b8fe36-6a75-4962-9e20-fc26a9ba5dbb",
   "metadata": {},
   "outputs": [],
   "source": [
    "ideal_slope = (Expected_Code_High-Expected_Code_low)/(V_high - V_low)\n",
    "ideal_slope"
   ]
  },
  {
   "cell_type": "code",
   "execution_count": null,
   "id": "0331115f-5b02-4ee4-af51-9dfbe4378d07",
   "metadata": {},
   "outputs": [],
   "source": [
    "non_ideal_slope = (Measured_Code_High-Measured_Code_low)/(V_high-V_low)\n",
    "non_ideal_slope"
   ]
  },
  {
   "cell_type": "code",
   "execution_count": null,
   "id": "23cab3c6-9215-4bad-a019-d9adb43d76d2",
   "metadata": {},
   "outputs": [],
   "source": [
    "def calibrate(raw_value):\n",
    "    return int(round((raw_value +159)*ideal_slope/non_ideal_slope,0))"
   ]
  },
  {
   "cell_type": "code",
   "execution_count": null,
   "id": "af7494c7-f0c9-4b31-b4f8-28026c19cfc9",
   "metadata": {},
   "outputs": [],
   "source": [
    "print(calibrate(278))"
   ]
  },
  {
   "cell_type": "code",
   "execution_count": null,
   "id": "6cbf62d6-1848-48f5-9dbc-8b39bd840bbc",
   "metadata": {},
   "outputs": [],
   "source": [
    "real = [278,3780]\n",
    "ideal = [409,3686]\n",
    "vin = [V_low, V_high]\n",
    "plt.plot(vin,real,\"-\", label = \"non-ideal\",marker = \"s\", markersize = 5)\n",
    "plt.plot(vin,ideal,\"-\", label = \"ideal\", marker = 10, markersize = 5)\n",
    "plt.xlabel (\"$V_{in}(v)$\")\n",
    "plt.ylabel (\"ADC Code\")\n",
    "plt.title(\"Ideal and Non-ideal transfer functions\")\n",
    "plt.legend();"
   ]
  },
  {
   "cell_type": "markdown",
   "id": "d0ca41b2-98f0-4311-ad9a-15da0515bb72",
   "metadata": {},
   "source": [
    "### Collecting Data for Linear Regression"
   ]
  },
  {
   "cell_type": "code",
   "execution_count": null,
   "id": "35c68c72-08f9-4ee2-b35b-df6345e0a924",
   "metadata": {},
   "outputs": [],
   "source": [
    "input_voltages = np.array([0.00,0.05,0.1,0.2,0.3,0.4,0.5,0.6,0.7,0.8,0.9,1.0,1.2,1.4,1.6,1.8,2.0,2.2,2.4,2.6,2.8,3.0,3.1,3.2,3.3])\n",
    "ADC_codes = np.array([0,0,0,111,235,358,488,612,731,853,994,1113,1374,1636,1877,2134,2384,2642,2892,3173,3465,3886,4069,4095,4095])"
   ]
  },
  {
   "cell_type": "code",
   "execution_count": null,
   "id": "fff9b9b6-65a9-4425-b44b-cdb6a5d3776c",
   "metadata": {},
   "outputs": [],
   "source": [
    "plt.scatter(input_voltages,ADC_codes);"
   ]
  },
  {
   "cell_type": "markdown",
   "id": "97e83048-12f0-4dda-9c17-a87ba7a9ec64",
   "metadata": {},
   "source": [
    "### Callecting Data for Kalman Filter"
   ]
  },
  {
   "cell_type": "code",
   "execution_count": null,
   "id": "d89bb87a-e4d8-4e54-8392-0c94e803ba58",
   "metadata": {},
   "outputs": [],
   "source": [
    "input_Volatage = 2.0 #\n",
    "true_ADC_Code = 2482\n",
    "measured_codes = np.array([2392,2393,2383,2386,2387,2383,2367,2384,2384,2383,2394,2282,2395,2395,2387,2384,2393,2389,2390,2378,2382,2384,2385\n",
    "])\n",
    "len(measured_codes)"
   ]
  },
  {
   "cell_type": "code",
   "execution_count": null,
   "id": "76af2c85-51c1-4a9a-8b55-9ad618600e44",
   "metadata": {},
   "outputs": [],
   "source": []
  }
 ],
 "metadata": {
  "kernelspec": {
   "display_name": "Python 3 (ipykernel)",
   "language": "python",
   "name": "python3"
  },
  "language_info": {
   "codemirror_mode": {
    "name": "ipython",
    "version": 3
   },
   "file_extension": ".py",
   "mimetype": "text/x-python",
   "name": "python",
   "nbconvert_exporter": "python",
   "pygments_lexer": "ipython3",
   "version": "3.10.12"
  }
 },
 "nbformat": 4,
 "nbformat_minor": 5
}
