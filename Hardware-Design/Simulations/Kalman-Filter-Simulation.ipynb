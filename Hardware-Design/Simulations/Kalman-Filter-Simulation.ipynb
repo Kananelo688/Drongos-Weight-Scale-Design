{
 "cells": [
  {
   "cell_type": "markdown",
   "id": "cbb01f38-a248-4906-beb8-0ec10bc1f298",
   "metadata": {},
   "source": [
    "# Notebook that Simulates Kalman Filter Algorithm"
   ]
  },
  {
   "cell_type": "markdown",
   "id": "617be86b-c650-4029-bd19-7236aeb1d82d",
   "metadata": {},
   "source": [
    "## Imports"
   ]
  },
  {
   "cell_type": "code",
   "execution_count": 1,
   "id": "9fb3dca7-02c0-428e-91e4-1180e3e1dabd",
   "metadata": {},
   "outputs": [
    {
     "name": "stderr",
     "output_type": "stream",
     "text": [
      "/home/professor/.local/lib/python3.10/site-packages/matplotlib/projections/__init__.py:63: UserWarning: Unable to import Axes3D. This may be due to multiple versions of Matplotlib being installed (e.g. as a system package and as a pip package). As a result, the 3D projection is not available.\n",
      "  warnings.warn(\"Unable to import Axes3D. This may be due to multiple versions of \"\n"
     ]
    }
   ],
   "source": [
    "import numpy as np\n",
    "from matplotlib import pyplot as plt"
   ]
  },
  {
   "cell_type": "markdown",
   "id": "114a823c-47d2-4191-b497-64d7893fbc1b",
   "metadata": {},
   "source": [
    "## Kalman Implementation"
   ]
  },
  {
   "cell_type": "code",
   "execution_count": 2,
   "id": "3d17b12b-8abe-446b-a387-98cdcea3a1ee",
   "metadata": {},
   "outputs": [],
   "source": [
    "def kalman_filter(initial_guess,guess_variance, measurements,measurement_variances, process_noise=0.0, plot = False, true_value = None,precision = 0.1):\n",
    "    #initial estimations\n",
    "    state_etimation = initial_guess;\n",
    "    estimation_variance = guess_variance;\n",
    "    N = len(measurement_variances)\n",
    "    #prediction\n",
    "    predicted_estimation = state_etimation;\n",
    "    predicted_estimation_variance = guess_variance+process_noise;\n",
    "\n",
    "    estimates = np.zeros(N+1)\n",
    "    estimates[0] = state_etimation;\n",
    "    Kalman_gains = np.zeros(N)\n",
    "    if plot:\n",
    "        plt.scatter(0,state_etimation,color = 'red',label = \"initial_state\");\n",
    "    \n",
    "    #iterating in for all given measurements\n",
    "    for i in range(N):\n",
    "        #Calculate the Kalman Gian\n",
    "        Kalman_Gian = predicted_estimation_variance/(predicted_estimation_variance+measurement_variances[i])\n",
    "        Kalman_gains[i] = Kalman_Gian\n",
    "        #Compute the current State Estimate\n",
    "        state_etimation = predicted_estimation + Kalman_Gian*(measurements[i]-predicted_estimation)\n",
    "        estimates[i+1] = state_etimation\n",
    "        estimation_variance = (1-Kalman_Gian)*predicted_estimation_variance\n",
    "\n",
    "        #Compute the prediction using dynamic Model\n",
    "        predicted_estimation = state_etimation;\n",
    "        predicted_estimation_variance = estimation_variance+process_noise;\n",
    "    if plot:\n",
    "        iterations = np.arange(0,N+1)\n",
    "        plt.plot(iterations[1:],estimates[1:],marker='s',markersize=5,label = \"estimates\")\n",
    "        plt.plot(iterations[1:],measurements,marker = 10, label = \"measurements\")\n",
    "        if true_value is not None:\n",
    "            t_vals = np.ones(N+1)*true_value\n",
    "            plt.plot(iterations[1:], t_vals[1:],marker=4,label = \"true values\")\n",
    "        plt.xlabel (\"Iterations\")\n",
    "        plt.title(\"Kalman Filter Simulations\")\n",
    "        plt.legend()\n",
    "        plt.show()\n",
    "        plt.figure();\n",
    "        plt.plot(Kalman_gains,marker=\"o\",markersize = 5)\n",
    "        plt.title(\"Kalman Gians\")\n",
    "        plt.xlabel(\"Iterations\")\n",
    "    return estimates\n",
    "    "
   ]
  },
  {
   "cell_type": "markdown",
   "id": "5a12df08-e295-440f-bad5-4a81d9a221b1",
   "metadata": {},
   "source": [
    "## Kalman Filter with ADC Values"
   ]
  },
  {
   "cell_type": "code",
   "execution_count": 3,
   "id": "924c2ade-c031-49f5-a819-7591de5273f1",
   "metadata": {},
   "outputs": [
    {
     "data": {
      "text/plain": [
       "array([1.92383107, 1.92458522, 1.91704374, 1.91930618, 1.92006033,\n",
       "       1.91704374, 1.90497738, 1.91779789, 1.91779789, 1.91704374,\n",
       "       1.92533937, 1.84087481, 1.92609351, 1.92609351, 1.92006033,\n",
       "       1.91779789, 1.92458522, 1.92156863, 1.92232278, 1.913273  ,\n",
       "       1.91628959, 1.91779789, 1.91855204])"
      ]
     },
     "execution_count": 3,
     "metadata": {},
     "output_type": "execute_result"
    }
   ],
   "source": [
    "true_ADC_Code = 2482\n",
    "measured_codes = np.array([2392,2393,2383,2386,2387,2383,2367,2384,2384,2383,2394,2282,2395,2395,2387,2384,2393,2389,2390,2378,2382,2384,2385\n",
    "])\n",
    "offset = -159\n",
    "slope = 1326\n",
    "\n",
    "voltages = (measured_codes-offset)/slope\n",
    "voltages"
   ]
  },
  {
   "cell_type": "code",
   "execution_count": null,
   "id": "960c53c2-524e-46ca-94c4-167e04a1e930",
   "metadata": {},
   "outputs": [],
   "source": [
    "variances = 0.01*np.ones(len(voltages))\n",
    "initial_guess = 2.5\n",
    "inital_var = 0.25\n",
    "estimates = kalman_filter(initial_guess,inital_var,voltages,variances,plot=True, true_value=2.00)"
   ]
  },
  {
   "cell_type": "code",
   "execution_count": null,
   "id": "2c0d2cce-12c0-4737-8d0f-55ff87e8d6a9",
   "metadata": {},
   "outputs": [],
   "source": [
    "trues = 2*np.ones(len(estimates))\n",
    "errors = trues - estimates\n",
    "plt.plot(etimates, marker=\"s\", label = \"estimates\")\n"
   ]
  },
  {
   "cell_type": "markdown",
   "id": "c4de3238-cb62-4776-ac2c-ca4635ddc34a",
   "metadata": {},
   "source": [
    "## Simulation with the Scale Voltage"
   ]
  },
  {
   "cell_type": "code",
   "execution_count": 6,
   "id": "2bb75691-61cc-4c8e-809e-9b9623db21ea",
   "metadata": {},
   "outputs": [],
   "source": [
    "dataset = [[1.644733,1.386407],\n",
    "[1.7700000,1.330951],\n",
    "[1.917758,1.353521],\n",
    "[1.876640,1.372896],\n",
    "[1.978614,1.394528],\n",
    "[1.858548,1.410529],\n",
    "[1.658713,1.418802],\n",
    "[1.387332,1.417787],\n",
    "[1.603615,1.423594],\n",
    "[1.618417,1.429497],\n",
    "[1.773022,1.439601],\n",
    "[1.2300000,1.398470],\n",
    "[2.464632,1.428085],\n",
    "[1.788647,1.437830],\n",
    "[2.051804,1.453987],\n",
    "[1.118418,1.445383],\n",
    "[1.699009,1.451724],\n",
    "[1.563319,1.454446],\n",
    "[2.962986,1.490363],\n",
    "[1.185030,1.483262],\n",
    "[1.986837,1.494707],\n",
    "[1.451477,1.493747],\n",
    "[1.537825,1.494705],\n",
    "[1.773844,1.500644],\n",
    "[1.697364,1.504742],\n",
    "[1.568253,1.506038],\n",
    "[1.681739,1.509552],\n",
    "[1.593746,1.511203],\n",
    "[1.565786,1.512253],\n",
    "[1.660358,1.515047],\n",
    "[1.706410,1.518591],\n",
    "[1.592101,1.519928],\n",
    "[1.533713,1.520174],\n",
    "[1.586345,1.521335],\n",
    "[1.060030,1.513381],\n",
    "[1.771377,1.517754],\n",
    "[1.768088,1.521926],\n",
    "[1.34300000,1.496977],\n",
    "[1.605259,1.498723],\n",
    "[1.516444,1.499004],\n",
    "[1.540292,1.499650],\n",
    "[2.541112,1.515672],\n",
    "[1.303451,1.512457],\n",
    "[1.581411,1.513486],\n",
    "[1.311674,1.510518],\n",
    "[1.536180,1.510890],\n",
    "[1.588812,1.512003],\n",
    "[1.632397,1.513699],\n",
    "[1.559207,1.514331],\n",
    "[1.636509,1.516005],\n",
    "[1.557562,1.516566],\n",
    "[1.526312,1.516696],\n",
    "[1.657068,1.518543],\n",
    "[1.634864,1.520054],\n",
    "[1.527957,1.520155],\n",
    "[1.526312,1.520233],\n",
    "[1.550983,1.520617],\n",
    "[1.947364,1.525886],\n",
    "[1.945719,1.531006],\n",
    "[1.617595,1.532049],\n",
    "[1.779601,1.534996],\n",
    "[1.735193,1.537351],\n",
    "[1.527957,1.537242],\n",
    "[1.789469,1.540141],\n",
    "[1.415293,1.538723],\n",
    "[1.623351,1.539674],\n",
    "[1.671049,1.541133],\n",
    "[1.839634,1.544414],\n",
    "[1.4500000,1.527627],\n",
    "[1.426806,1.526542],\n",
    "[1.535358,1.526636],\n",
    "[1.785357,1.529360],\n",
    "[2.029600,1.534570],\n",
    "[1.789000,1.518750],\n",
    "[1.341280,1.516939],\n",
    "[1.802627,1.519825],\n",
    "[2.592099,1.530548],\n",
    "[1.550161,1.530742],\n",
    "[1.777134,1.533158],\n",
    "[1.619239,1.533993],\n",
    "[12.351968,1.541859],\n",
    "[1.828121,1.544585],\n",
    "[1.529604,1.535010],\n",
    "[1.784535,1.537342],\n",
    "[2.652954,1.547671],\n",
    "[2.421047,1.555684],\n",
    "[1.450000,1.541541],\n",
    "[1.3440000,1.527654],\n",
    "[1.440000,1.5141]]"
   ]
  },
  {
   "cell_type": "code",
   "execution_count": 10,
   "id": "846b1eda-e206-4a0f-9d29-158186397bb4",
   "metadata": {},
   "outputs": [
    {
     "name": "stdout",
     "output_type": "stream",
     "text": [
      "89\n"
     ]
    }
   ],
   "source": [
    "volts = []\n",
    "filtered = []\n",
    "for i in range(len(dataset)):\n",
    "    volts.append(dataset[i][0])\n",
    "    filtered.append(dataset[i][1])\n",
    "print(len(volts))"
   ]
  },
  {
   "cell_type": "code",
   "execution_count": 8,
   "id": "5ef579ed-29d4-40b4-8b22-31a31d02cac5",
   "metadata": {},
   "outputs": [],
   "source": [
    "volts = np.array(volts)\n",
    "volts[volts==12.351968] = 2.351968"
   ]
  },
  {
   "cell_type": "code",
   "execution_count": null,
   "id": "430f4a28-5282-4d6e-9e67-97ed8cbe2599",
   "metadata": {},
   "outputs": [],
   "source": [
    "plt.plot(volts,color = \"r\", label = \"input voltage\",marker = \"s\");\n",
    "plt.plot(filtered, color = \"g\", label = \"filter out\",marker = \"D\");\n",
    "plt.xlabel (\"sample number\")\n",
    "plt.ylabel(\"voltage(V)\")\n",
    "plt.title(\"Kalman Filter output Vs Input Voltage\")\n",
    "plt.legend()"
   ]
  }
 ],
 "metadata": {
  "kernelspec": {
   "display_name": "Python 3 (ipykernel)",
   "language": "python",
   "name": "python3"
  },
  "language_info": {
   "codemirror_mode": {
    "name": "ipython",
    "version": 3
   },
   "file_extension": ".py",
   "mimetype": "text/x-python",
   "name": "python",
   "nbconvert_exporter": "python",
   "pygments_lexer": "ipython3",
   "version": "3.10.12"
  }
 },
 "nbformat": 4,
 "nbformat_minor": 5
}
