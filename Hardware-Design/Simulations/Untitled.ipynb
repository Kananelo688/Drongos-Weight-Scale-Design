{
 "cells": [
  {
   "cell_type": "code",
   "execution_count": 2,
   "id": "9e97ffb5-6859-48c7-a84a-9c6dc0273ca8",
   "metadata": {},
   "outputs": [
    {
     "ename": "LinAlgError",
     "evalue": "0-dimensional array given. Array must be at least two-dimensional",
     "output_type": "error",
     "traceback": [
      "\u001b[0;31m---------------------------------------------------------------------------\u001b[0m",
      "\u001b[0;31mLinAlgError\u001b[0m                               Traceback (most recent call last)",
      "Cell \u001b[0;32mIn[2], line 34\u001b[0m\n\u001b[1;32m     32\u001b[0m \u001b[38;5;28;01mfor\u001b[39;00m _ \u001b[38;5;129;01min\u001b[39;00m \u001b[38;5;28mrange\u001b[39m(\u001b[38;5;241m100\u001b[39m):\n\u001b[1;32m     33\u001b[0m     z \u001b[38;5;241m=\u001b[39m simulate_adc_reading(true_voltage, noise_std)\n\u001b[0;32m---> 34\u001b[0m     x_est, P \u001b[38;5;241m=\u001b[39m \u001b[43mkalman_filter\u001b[49m\u001b[43m(\u001b[49m\u001b[43mz\u001b[49m\u001b[43m,\u001b[49m\u001b[43m \u001b[49m\u001b[43mx_est\u001b[49m\u001b[43m,\u001b[49m\u001b[43m \u001b[49m\u001b[43mP\u001b[49m\u001b[43m,\u001b[49m\u001b[43m \u001b[49m\u001b[43mA\u001b[49m\u001b[43m,\u001b[49m\u001b[43m \u001b[49m\u001b[43mH\u001b[49m\u001b[43m,\u001b[49m\u001b[43m \u001b[49m\u001b[43mQ\u001b[49m\u001b[43m,\u001b[49m\u001b[43m \u001b[49m\u001b[43mR\u001b[49m\u001b[43m,\u001b[49m\u001b[43m \u001b[49m\u001b[43mI\u001b[49m\u001b[43m)\u001b[49m\n\u001b[1;32m     35\u001b[0m     \u001b[38;5;28mprint\u001b[39m(\u001b[38;5;124mf\u001b[39m\u001b[38;5;124m\"\u001b[39m\u001b[38;5;124mTrue voltage: \u001b[39m\u001b[38;5;132;01m{\u001b[39;00mtrue_voltage\u001b[38;5;132;01m}\u001b[39;00m\u001b[38;5;124m, Measured: \u001b[39m\u001b[38;5;132;01m{\u001b[39;00mz\u001b[38;5;132;01m}\u001b[39;00m\u001b[38;5;124m, Estimated: \u001b[39m\u001b[38;5;132;01m{\u001b[39;00mx_est\u001b[38;5;132;01m}\u001b[39;00m\u001b[38;5;124m\"\u001b[39m)\n",
      "Cell \u001b[0;32mIn[2], line 13\u001b[0m, in \u001b[0;36mkalman_filter\u001b[0;34m(z, x_est, P, A, H, Q, R, I)\u001b[0m\n\u001b[1;32m     10\u001b[0m P_pred \u001b[38;5;241m=\u001b[39m A \u001b[38;5;241m*\u001b[39m P \u001b[38;5;241m*\u001b[39m A\u001b[38;5;241m*\u001b[39mI \u001b[38;5;241m+\u001b[39m Q\n\u001b[1;32m     12\u001b[0m \u001b[38;5;66;03m# Update\u001b[39;00m\n\u001b[0;32m---> 13\u001b[0m K \u001b[38;5;241m=\u001b[39m P_pred \u001b[38;5;241m*\u001b[39m H\u001b[38;5;241m*\u001b[39mI \u001b[38;5;241m*\u001b[39m \u001b[43mnp\u001b[49m\u001b[38;5;241;43m.\u001b[39;49m\u001b[43mlinalg\u001b[49m\u001b[38;5;241;43m.\u001b[39;49m\u001b[43minv\u001b[49m\u001b[43m(\u001b[49m\u001b[43mH\u001b[49m\u001b[43m \u001b[49m\u001b[38;5;241;43m*\u001b[39;49m\u001b[43m \u001b[49m\u001b[43mP_pred\u001b[49m\u001b[43m \u001b[49m\u001b[38;5;241;43m*\u001b[39;49m\u001b[43m \u001b[49m\u001b[43mH\u001b[49m\u001b[38;5;241;43m*\u001b[39;49m\u001b[43mI\u001b[49m\u001b[43m \u001b[49m\u001b[38;5;241;43m+\u001b[39;49m\u001b[43m \u001b[49m\u001b[43mR\u001b[49m\u001b[43m)\u001b[49m\n\u001b[1;32m     14\u001b[0m x_est_new \u001b[38;5;241m=\u001b[39m x_pred \u001b[38;5;241m+\u001b[39m K \u001b[38;5;241m*\u001b[39m (z \u001b[38;5;241m-\u001b[39m H \u001b[38;5;241m*\u001b[39m x_pred)\n\u001b[1;32m     15\u001b[0m P_new \u001b[38;5;241m=\u001b[39m (I \u001b[38;5;241m-\u001b[39m K \u001b[38;5;241m*\u001b[39m H) \u001b[38;5;241m*\u001b[39m P_pred\n",
      "File \u001b[0;32m~/.local/lib/python3.10/site-packages/numpy/linalg/linalg.py:555\u001b[0m, in \u001b[0;36minv\u001b[0;34m(a)\u001b[0m\n\u001b[1;32m    494\u001b[0m \u001b[38;5;250m\u001b[39m\u001b[38;5;124;03m\"\"\"\u001b[39;00m\n\u001b[1;32m    495\u001b[0m \u001b[38;5;124;03mCompute the (multiplicative) inverse of a matrix.\u001b[39;00m\n\u001b[1;32m    496\u001b[0m \n\u001b[0;32m   (...)\u001b[0m\n\u001b[1;32m    552\u001b[0m \n\u001b[1;32m    553\u001b[0m \u001b[38;5;124;03m\"\"\"\u001b[39;00m\n\u001b[1;32m    554\u001b[0m a, wrap \u001b[38;5;241m=\u001b[39m _makearray(a)\n\u001b[0;32m--> 555\u001b[0m \u001b[43m_assert_stacked_2d\u001b[49m\u001b[43m(\u001b[49m\u001b[43ma\u001b[49m\u001b[43m)\u001b[49m\n\u001b[1;32m    556\u001b[0m _assert_stacked_square(a)\n\u001b[1;32m    557\u001b[0m t, result_t \u001b[38;5;241m=\u001b[39m _commonType(a)\n",
      "File \u001b[0;32m~/.local/lib/python3.10/site-packages/numpy/linalg/linalg.py:206\u001b[0m, in \u001b[0;36m_assert_stacked_2d\u001b[0;34m(*arrays)\u001b[0m\n\u001b[1;32m    204\u001b[0m \u001b[38;5;28;01mfor\u001b[39;00m a \u001b[38;5;129;01min\u001b[39;00m arrays:\n\u001b[1;32m    205\u001b[0m     \u001b[38;5;28;01mif\u001b[39;00m a\u001b[38;5;241m.\u001b[39mndim \u001b[38;5;241m<\u001b[39m \u001b[38;5;241m2\u001b[39m:\n\u001b[0;32m--> 206\u001b[0m         \u001b[38;5;28;01mraise\u001b[39;00m LinAlgError(\u001b[38;5;124m'\u001b[39m\u001b[38;5;132;01m%d\u001b[39;00m\u001b[38;5;124m-dimensional array given. Array must be \u001b[39m\u001b[38;5;124m'\u001b[39m\n\u001b[1;32m    207\u001b[0m                 \u001b[38;5;124m'\u001b[39m\u001b[38;5;124mat least two-dimensional\u001b[39m\u001b[38;5;124m'\u001b[39m \u001b[38;5;241m%\u001b[39m a\u001b[38;5;241m.\u001b[39mndim)\n",
      "\u001b[0;31mLinAlgError\u001b[0m: 0-dimensional array given. Array must be at least two-dimensional"
     ]
    }
   ],
   "source": [
    "import numpy as np\n",
    "\n",
    "def simulate_adc_reading(true_voltage, noise_std):\n",
    "    noise = np.random.normal(0, noise_std)\n",
    "    return true_voltage + noise\n",
    "\n",
    "def kalman_filter(z, x_est, P, A, H, Q, R, I):\n",
    "    # Predict\n",
    "    x_pred = A * x_est\n",
    "    P_pred = A * P * A*I + Q\n",
    "\n",
    "    # Update\n",
    "    K = P_pred * H*I * np.linalg.inv(H * P_pred * H*I + R)\n",
    "    x_est_new = x_pred + K * (z - H * x_pred)\n",
    "    P_new = (I - K * H) * P_pred\n",
    "\n",
    "    return x_est_new, P_new\n",
    "\n",
    "# Parameters\n",
    "A = 1  # State transition model\n",
    "H = 1  # Measurement model\n",
    "Q = 0.001  # Process noise covariance\n",
    "R = 0.01  # Measurement noise covariance\n",
    "I = 1  # Identity matrix\n",
    "x_est = 0  # Initial state estimate\n",
    "P = 1  # Initial covariance estimate\n",
    "\n",
    "true_voltage = 3.3  # Assume a true voltage\n",
    "noise_std = 0.1  # Standard deviation of noise\n",
    "\n",
    "# Simulation loop\n",
    "for _ in range(100):\n",
    "    z = simulate_adc_reading(true_voltage, noise_std)\n",
    "    x_est, P = kalman_filter(z, x_est, P, A, H, Q, R, I)\n",
    "    print(f\"True voltage: {true_voltage}, Measured: {z}, Estimated: {x_est}\")\n",
    "\n"
   ]
  },
  {
   "cell_type": "code",
   "execution_count": null,
   "id": "682e5877-2e67-4405-b4a8-630fa48214ee",
   "metadata": {},
   "outputs": [],
   "source": []
  }
 ],
 "metadata": {
  "kernelspec": {
   "display_name": "Python 3 (ipykernel)",
   "language": "python",
   "name": "python3"
  },
  "language_info": {
   "codemirror_mode": {
    "name": "ipython",
    "version": 3
   },
   "file_extension": ".py",
   "mimetype": "text/x-python",
   "name": "python",
   "nbconvert_exporter": "python",
   "pygments_lexer": "ipython3",
   "version": "3.10.12"
  }
 },
 "nbformat": 4,
 "nbformat_minor": 5
}
