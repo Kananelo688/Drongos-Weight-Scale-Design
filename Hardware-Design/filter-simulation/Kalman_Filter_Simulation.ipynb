{
 "cells": [
  {
   "cell_type": "markdown",
   "id": "20f27bc5-2cb1-4f0b-9bed-1c52d59068f1",
   "metadata": {},
   "source": [
    "# Section 1: Simulating Kalman Filter with no Noise"
   ]
  },
  {
   "cell_type": "markdown",
   "id": "be851328-66dd-49cf-9625-d789fe2f847e",
   "metadata": {},
   "source": [
    "### Imports"
   ]
  },
  {
   "cell_type": "code",
   "execution_count": 1,
   "id": "39032d58-3e57-441c-9fd9-d2cc630f7baa",
   "metadata": {},
   "outputs": [],
   "source": [
    "import numpy as np\n",
    "import matplotlib.pyplot as plt"
   ]
  },
  {
   "cell_type": "markdown",
   "id": "eecf4382-2daa-4efe-93fd-7b4f26546768",
   "metadata": {},
   "source": [
    "### Filter Algorithm Implementation"
   ]
  },
  {
   "cell_type": "code",
   "execution_count": 3,
   "id": "be162e5e-703f-4612-bfbf-acabb2b4574d",
   "metadata": {},
   "outputs": [],
   "source": [
    "def kalman_no_noise(initial_estimates, measurements, plot=False, true_estimates = None, units = None, title = None):\n",
    "    #TODO: Will be completed later Today.\n",
    "    pass"
   ]
  },
  {
   "cell_type": "code",
   "execution_count": null,
   "id": "c2a34717-1464-4b6f-9349-8a57568c9a2d",
   "metadata": {},
   "outputs": [],
   "source": []
  }
 ],
 "metadata": {
  "kernelspec": {
   "display_name": "Python 3 (ipykernel)",
   "language": "python",
   "name": "python3"
  },
  "language_info": {
   "codemirror_mode": {
    "name": "ipython",
    "version": 3
   },
   "file_extension": ".py",
   "mimetype": "text/x-python",
   "name": "python",
   "nbconvert_exporter": "python",
   "pygments_lexer": "ipython3",
   "version": "3.8.10"
  }
 },
 "nbformat": 4,
 "nbformat_minor": 5
}
